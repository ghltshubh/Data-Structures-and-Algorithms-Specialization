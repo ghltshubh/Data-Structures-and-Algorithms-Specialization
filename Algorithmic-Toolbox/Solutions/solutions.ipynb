{
 "cells": [
  {
   "attachments": {},
   "cell_type": "markdown",
   "metadata": {},
   "source": [
    "## Week 1"
   ]
  },
  {
   "cell_type": "code",
   "execution_count": 4,
   "metadata": {},
   "outputs": [
    {
     "name": "stdout",
     "output_type": "stream",
     "text": [
      "44\n"
     ]
    }
   ],
   "source": [
    "## Sum of two digits\n",
    "\n",
    "def sum_of_two_digits(first_digit, second_digit):\n",
    "    return first_digit + second_digit\n",
    "\n",
    "\n",
    "if __name__ == '__main__':\n",
    "    a, b = map(int, input().split())\n",
    "    print(sum_of_two_digits(a, b))"
   ]
  },
  {
   "attachments": {},
   "cell_type": "markdown",
   "metadata": {},
   "source": [
    "## Week 2"
   ]
  },
  {
   "cell_type": "code",
   "execution_count": null,
   "metadata": {},
   "outputs": [],
   "source": [
    "# Fibonacci number\n",
    "\n",
    "def fibonacci_number(n):\n",
    "    fibList = [0] * (n+1)\n",
    "    if n <= 1:\n",
    "        return n\n",
    "    else:\n",
    "        fibList[0] = 0\n",
    "        fibList[1] = 1\n",
    "        for i in range(2, n+1):\n",
    "            fibList[i] = fibList[i-1] + fibList[i-2]\n",
    "        return fibList[n]\n",
    "\n",
    "\n",
    "if __name__ == '__main__':\n",
    "    input_n = int(input())\n",
    "    print(fibonacci_number(input_n))\n"
   ]
  },
  {
   "cell_type": "code",
   "execution_count": null,
   "metadata": {},
   "outputs": [],
   "source": [
    "# Last digit of fibonacci\n",
    "\n",
    "def fibonacci_last_digit(n):\n",
    "    if n <= 1:\n",
    "        return n\n",
    "\n",
    "    previous = 0\n",
    "    current  = 1\n",
    "\n",
    "    for _ in range(n - 1):\n",
    "        previous, current = current, (previous + current) % 10\n",
    "\n",
    "    return current\n",
    "\n",
    "\n",
    "if __name__ == '__main__':\n",
    "    n = int(input())\n",
    "    print(fibonacci_last_digit(n))\n"
   ]
  },
  {
   "cell_type": "code",
   "execution_count": null,
   "metadata": {},
   "outputs": [],
   "source": [
    "# Greatest common divisor\n",
    "\n",
    "def gcd(a, b):\n",
    "    if a == b  or b == 0:\n",
    "        return a\n",
    "    elif b == 1:\n",
    "        return 1\n",
    "    else:\n",
    "        a, b = b, a % b\n",
    "        return gcd(a,b)\n",
    "\n",
    "if __name__ == \"__main__\":\n",
    "    a, b = map(int, input().split())\n",
    "    print(gcd(a, b))\n"
   ]
  },
  {
   "cell_type": "code",
   "execution_count": null,
   "metadata": {},
   "outputs": [],
   "source": [
    "# Least common multiple\n",
    "\n",
    "def gcd(a, b):\n",
    "    if a == b  or b == 0:\n",
    "        return a\n",
    "    elif b == 1:\n",
    "        return 1\n",
    "    else:\n",
    "        a, b = b, a % b\n",
    "        return gcd(a,b)\n",
    "    \n",
    "def lcm(a, b):\n",
    "\n",
    "    return int(a * b / gcd(a,b))\n",
    "\n",
    "\n",
    "if __name__ == '__main__':\n",
    "    a, b = map(int, input().split())\n",
    "    print(lcm(a, b))"
   ]
  }
 ],
 "metadata": {
  "kernelspec": {
   "display_name": "Python 3 (ipykernel)",
   "language": "python",
   "name": "python3"
  },
  "language_info": {
   "codemirror_mode": {
    "name": "ipython",
    "version": 3
   },
   "file_extension": ".py",
   "mimetype": "text/x-python",
   "name": "python",
   "nbconvert_exporter": "python",
   "pygments_lexer": "ipython3",
   "version": "3.10.8"
  },
  "orig_nbformat": 4
 },
 "nbformat": 4,
 "nbformat_minor": 2
}
