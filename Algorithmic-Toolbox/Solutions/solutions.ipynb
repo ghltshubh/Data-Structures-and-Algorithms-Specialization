{
 "cells": [
  {
   "attachments": {},
   "cell_type": "markdown",
   "metadata": {},
   "source": [
    "## Week 1"
   ]
  },
  {
   "cell_type": "code",
   "execution_count": 4,
   "metadata": {},
   "outputs": [
    {
     "name": "stdout",
     "output_type": "stream",
     "text": [
      "44\n"
     ]
    }
   ],
   "source": [
    "## Sum of two digits\n",
    "\n",
    "def sum_of_two_digits(first_digit, second_digit):\n",
    "    return first_digit + second_digit\n",
    "\n",
    "\n",
    "if __name__ == '__main__':\n",
    "    a, b = map(int, input().split())\n",
    "    print(sum_of_two_digits(a, b))"
   ]
  },
  {
   "attachments": {},
   "cell_type": "markdown",
   "metadata": {},
   "source": [
    "## Week 2"
   ]
  },
  {
   "cell_type": "code",
   "execution_count": null,
   "metadata": {},
   "outputs": [],
   "source": [
    "# Fibonacci number\n",
    "\n",
    "def fibonacci_number(n):\n",
    "    fibList = [0] * (n+1)\n",
    "    if n <= 1:\n",
    "        return n\n",
    "    else:\n",
    "        fibList[0] = 0\n",
    "        fibList[1] = 1\n",
    "        for i in range(2, n+1):\n",
    "            fibList[i] = fibList[i-1] + fibList[i-2]\n",
    "        return fibList[n]\n",
    "\n",
    "\n",
    "if __name__ == '__main__':\n",
    "    input_n = int(input())\n",
    "    print(fibonacci_number(input_n))\n"
   ]
  },
  {
   "cell_type": "code",
   "execution_count": null,
   "metadata": {},
   "outputs": [],
   "source": [
    "# Last digit of fibonacci\n",
    "\n",
    "def fibonacci_last_digit(n):\n",
    "    if n <= 1:\n",
    "        return n\n",
    "\n",
    "    previous = 0\n",
    "    current  = 1\n",
    "\n",
    "    for _ in range(n - 1):\n",
    "        previous, current = current, (previous + current) % 10\n",
    "\n",
    "    return current\n",
    "\n",
    "\n",
    "if __name__ == '__main__':\n",
    "    n = int(input())\n",
    "    print(fibonacci_last_digit(n))\n"
   ]
  },
  {
   "cell_type": "code",
   "execution_count": null,
   "metadata": {},
   "outputs": [],
   "source": [
    "# Greatest common divisor\n",
    "\n",
    "def gcd(a, b):\n",
    "    if a == b  or b == 0:\n",
    "        return a\n",
    "    elif b == 1:\n",
    "        return 1\n",
    "    else:\n",
    "        a, b = b, a % b\n",
    "        return gcd(a,b)\n",
    "\n",
    "if __name__ == \"__main__\":\n",
    "    a, b = map(int, input().split())\n",
    "    print(gcd(a, b))\n"
   ]
  },
  {
   "cell_type": "code",
   "execution_count": null,
   "metadata": {},
   "outputs": [],
   "source": [
    "# Least common multiple\n",
    "\n",
    "def gcd(a, b):\n",
    "    if a == b  or b == 0:\n",
    "        return a\n",
    "    elif b == 1:\n",
    "        return 1\n",
    "    else:\n",
    "        a, b = b, a % b\n",
    "        return gcd(a,b)\n",
    "    \n",
    "def lcm(a, b):\n",
    "\n",
    "    return int(a * b / gcd(a,b))\n",
    "\n",
    "\n",
    "if __name__ == '__main__':\n",
    "    a, b = map(int, input().split())\n",
    "    print(lcm(a, b))"
   ]
  },
  {
   "attachments": {},
   "cell_type": "markdown",
   "metadata": {},
   "source": [
    "## Week 3"
   ]
  },
  {
   "cell_type": "code",
   "execution_count": null,
   "metadata": {},
   "outputs": [],
   "source": [
    "# Money change\n",
    "\n",
    "import math\n",
    "def change(money):\n",
    "    # write your code here\n",
    "    \n",
    "    return math.floor(money/10) + math.floor((money % 10)/5) + math.floor(money % 5)\n",
    "\n",
    "\n",
    "if __name__ == '__main__':\n",
    "    m = int(input())\n",
    "    print(change(m))"
   ]
  },
  {
   "cell_type": "code",
   "execution_count": null,
   "metadata": {},
   "outputs": [],
   "source": [
    "# Maximum value of loot (Knapsack)\n",
    "\n",
    "from sys import stdin\n",
    "import numpy as np\n",
    "\n",
    "def optimal_value(capacity, weights, values):\n",
    "    value = 0.\n",
    "    i = 0\n",
    "    # write your code here\n",
    "    for _ in range(n):\n",
    "        if capacity == 0:\n",
    "            return value\n",
    "        \n",
    "        value_per_weight = np.array(values)/np.array(weights)\n",
    "        value_per_weight[value_per_weight == np.inf] = 0\n",
    "        i = np.argmax(value_per_weight)\n",
    "        a = min(weights[i], capacity)\n",
    "        value = value + a * values[i] / weights[i]\n",
    "        weights[i] = weights[i] - a\n",
    "        capacity = capacity - a\n",
    "\n",
    "    return value\n",
    "\n",
    "\n",
    "if __name__ == \"__main__\":\n",
    "    data = list(map(int, stdin.read().split()))\n",
    "    n, capacity = data[0:2]\n",
    "    values = data[2:(2 * n + 2):2]\n",
    "    weights = data[3:(2 * n + 2):2]\n",
    "    # print(n, capacity, values, weights)\n",
    "    opt_value = optimal_value(capacity, weights, values)   \n",
    "    print(\"{:.10f}\".format(opt_value))\n"
   ]
  },
  {
   "cell_type": "code",
   "execution_count": null,
   "metadata": {},
   "outputs": [],
   "source": [
    "# Car fueling\n",
    "\n",
    "from sys import stdin\n",
    "\n",
    "\n",
    "def min_refills(distance, tank, stops):\n",
    "    stop_list = []\n",
    "    stops.append(distance) # append the destination to the stop list\n",
    "    # write your code here\n",
    "    if distance <= tank: # if the travel distance <= distance travelled in one full tank\n",
    "        return 0\n",
    "    else:\n",
    "        start = 0\n",
    "        prev = 0\n",
    "        for stop in stops:\n",
    "            \n",
    "            if stop - start < tank:     # if refueling stop is closer to the starting point than the car can travel in one full tank\n",
    "                prev = stop     # move prev pointer to the refueling stop\n",
    "            elif (stop - start == tank) and (stop != distance):     # don't consider destination as a refueling stop\n",
    "                start = stop    # move the starting point to the current gas stop\n",
    "                stop_list.append(stop)      # add the refueling stop to the stop list\n",
    "                prev = stop     # move the prev pointer to the stop\n",
    "            elif stop - start > tank:\n",
    "                start = prev    # move the starting point to the prev gas stop\n",
    "                if stop - start > tank:     # if next refuleing stop is farther than the dist. car can go in one full tank\n",
    "                    return -1\n",
    "                stop_list.append(prev)      # add the refueling stop to the list\n",
    "                prev = stop     # move the prev pointer the stop\n",
    "\n",
    "    return len(stop_list)\n",
    "\n",
    "\n",
    "if __name__ == '__main__':\n",
    "    d, m, _, *stops = map(int, stdin.read().split())\n",
    "    print(min_refills(d, m, stops))\n"
   ]
  },
  {
   "cell_type": "code",
   "execution_count": null,
   "metadata": {},
   "outputs": [],
   "source": [
    "# Maximum ad revenue\n",
    "\n",
    "import numpy as np\n",
    "\n",
    "\n",
    "def max_dot_product(first_sequence, second_sequence):\n",
    "    first_sequence = np.array(sorted(first_sequence))\n",
    "    second_sequence = np.array(sorted(second_sequence))\n",
    "    max_product = np.dot(first_sequence, second_sequence)\n",
    "    return max_product\n",
    "\n",
    "\n",
    "if __name__ == '__main__':\n",
    "    n = int(input())\n",
    "    prices = list(map(int, input().split()))\n",
    "    clicks = list(map(int, input().split()))\n",
    "    assert len(prices) == len(clicks) == n\n",
    "    print(max_dot_product(prices, clicks))\n"
   ]
  }
 ],
 "metadata": {
  "kernelspec": {
   "display_name": "Python 3 (ipykernel)",
   "language": "python",
   "name": "python3"
  },
  "orig_nbformat": 4
 },
 "nbformat": 4,
 "nbformat_minor": 2
}
