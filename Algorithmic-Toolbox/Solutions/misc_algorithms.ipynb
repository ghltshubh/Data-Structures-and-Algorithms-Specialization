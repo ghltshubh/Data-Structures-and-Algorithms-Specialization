{
 "cells": [
  {
   "cell_type": "code",
   "execution_count": 1,
   "metadata": {},
   "outputs": [
    {
     "name": "stdout",
     "output_type": "stream",
     "text": [
      "[-3, 0, 1, 2, 4, 9, 18]\n"
     ]
    }
   ],
   "source": [
    "# Selection sort [O(n^2)]\n",
    "A = [4, 2, 9, 1, 0, -3, 18]\n",
    "def selectionSort(arr):\n",
    "\n",
    "    for i in range(len(arr)):\n",
    "        min_i = i\n",
    "        for j in range(i+1,len(arr)):\n",
    "            if arr[j] < arr[min_i]:\n",
    "                min_i = j\n",
    "        arr[i], arr[min_i] = arr[min_i], arr[i]\n",
    "\n",
    "selectionSort(A)\n",
    "print(A)\n"
   ]
  },
  {
   "cell_type": "code",
   "execution_count": 2,
   "metadata": {},
   "outputs": [
    {
     "name": "stdout",
     "output_type": "stream",
     "text": [
      "[-3, 0, 1, 2, 4, 9, 18]\n"
     ]
    }
   ],
   "source": [
    "# Stable selection sort [O(n^2)]\n",
    "A = [4, 2, 9, 1, 0, -3, 18]\n",
    "def stableSelectionSort(arr):\n",
    "    \n",
    "    for i in range(len(arr)):\n",
    "        min_i = i\n",
    "        for j in reversed(range(i+1,len(arr))):\n",
    "            if arr[j] < arr[min_i]:\n",
    "                min_i = j\n",
    "        arr[min_i], arr[i] = arr[i], arr[min_i]\n",
    "\n",
    "stableSelectionSort(A)\n",
    "print(A)"
   ]
  },
  {
   "cell_type": "code",
   "execution_count": 3,
   "metadata": {},
   "outputs": [
    {
     "name": "stdout",
     "output_type": "stream",
     "text": [
      "[-3, 0, 1, 2, 4, 9, 18]\n"
     ]
    }
   ],
   "source": [
    "# Merge sort [O(nlog(n)]\n",
    "A = [4, 2, 9, 1, 0, -3, 18]\n",
    "def merge(arr, lb, mid, ub):\n",
    "    \n",
    "    n1 = mid - lb + 1\n",
    "    n2 = ub - mid\n",
    "\n",
    "    # create temp arrays\n",
    "    L = [0] * n1\n",
    "    R = [0] * n2\n",
    "\n",
    "\t# Copy data to temp arrays L[] and R[]\n",
    "    for i in range(n1):\n",
    "        L[i] = arr[lb + i]\n",
    "\n",
    "    for j in range(n2):\n",
    "        R[j] = arr[mid + 1 + j]\n",
    "\n",
    "    # Merge the temp arrays back into arr[l..r]\n",
    "    i = 0   # Initial index of first subarray\n",
    "    j = 0   # Initial index of second subarray\n",
    "    k = lb  # Initial index of merged subarray\n",
    "\n",
    "    while i < n1 and j < n2:\n",
    "        if L[i] <= R[j]:\n",
    "            arr[k] = L[i]\n",
    "            i += 1\n",
    "        else:\n",
    "            arr[k] = R[j]\n",
    "            j += 1\n",
    "        k += 1\n",
    "\n",
    "    # Copy the remaining elements of L[], if there are any\n",
    "    while i < n1:\n",
    "        arr[k] = L[i]\n",
    "        i += 1\n",
    "        k += 1\n",
    "\n",
    "    # Copy the remaining elements of R[], if there are any\n",
    "    while j < n2:\n",
    "        arr[k] = R[j]\n",
    "        j += 1\n",
    "        k += 1\n",
    "\n",
    "\n",
    "def mergeSort(arr, lb, ub):\n",
    "    if lb < ub:\n",
    "        mid = (lb+ub)//2\n",
    "        mergeSort(arr, lb, mid)\n",
    "        mergeSort(arr, mid+1, ub)\n",
    "        merge(arr, lb, mid, ub)\n",
    "\n",
    "mergeSort(A, 0, len(A)-1)\n",
    "print(A)"
   ]
  },
  {
   "cell_type": "code",
   "execution_count": 4,
   "metadata": {},
   "outputs": [
    {
     "name": "stdout",
     "output_type": "stream",
     "text": [
      "[0, 1, 2, 3, 4, 9, 18]\n"
     ]
    }
   ],
   "source": [
    "# Counting sort [O(n)] - only for positive integers\n",
    "A = [4, 2, 9, 1, 0, 3, 18]\n",
    "def countingSort(arr):\n",
    "    count_arr = [0] * (max(arr) + 1)\n",
    "    for i in range(len(arr)):\n",
    "        count_arr[arr[i]] += 1\n",
    "    for i in range(1, len(count_arr)):\n",
    "        count_arr[i] += count_arr[i-1]\n",
    "    output = [0] * len(arr)\n",
    "    for i in range(len(arr)):\n",
    "        output[count_arr[arr[i]]-1] = arr[i]\n",
    "        count_arr[arr[i]] -= 1\n",
    "    return output\n",
    "\n",
    "print(countingSort(A))"
   ]
  },
  {
   "cell_type": "code",
   "execution_count": 5,
   "metadata": {},
   "outputs": [
    {
     "name": "stdout",
     "output_type": "stream",
     "text": [
      "[-3, 0, 1, 2, 4, 9, 18]\n"
     ]
    }
   ],
   "source": [
    "# Quick sort [O(nlog(n))]\n",
    "A = [4, 2, 9, 1, 0, -3, 18]\n",
    "def quickSort(arr):\n",
    "    if len(arr) <= 1:\n",
    "        return arr\n",
    "    pivot = arr[0]\n",
    "    left = [x for x in arr[1:] if x <= pivot]\n",
    "    right = [x for x in arr[1:] if x > pivot]\n",
    "    return quickSort(left) + [pivot] + quickSort(right)\n",
    "\n",
    "print(quickSort(A))\n"
   ]
  },
  {
   "cell_type": "code",
   "execution_count": null,
   "metadata": {},
   "outputs": [],
   "source": []
  }
 ],
 "metadata": {
  "kernelspec": {
   "display_name": "base",
   "language": "python",
   "name": "python3"
  },
  "language_info": {
   "codemirror_mode": {
    "name": "ipython",
    "version": 3
   },
   "file_extension": ".py",
   "mimetype": "text/x-python",
   "name": "python",
   "nbconvert_exporter": "python",
   "pygments_lexer": "ipython3",
   "version": "3.7.11"
  },
  "orig_nbformat": 4
 },
 "nbformat": 4,
 "nbformat_minor": 2
}
