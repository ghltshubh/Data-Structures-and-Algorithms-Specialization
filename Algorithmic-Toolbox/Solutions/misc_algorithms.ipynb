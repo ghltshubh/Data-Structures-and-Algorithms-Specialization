{
 "cells": [
  {
   "cell_type": "code",
   "execution_count": 14,
   "metadata": {},
   "outputs": [],
   "source": [
    "A = [4, 2, 9, 1, 0, -3, 18]"
   ]
  },
  {
   "cell_type": "code",
   "execution_count": 15,
   "metadata": {},
   "outputs": [
    {
     "name": "stdout",
     "output_type": "stream",
     "text": [
      "[-3, 0, 1, 2, 4, 9, 18]\n"
     ]
    }
   ],
   "source": [
    "# Selection sort [O(n^2)]\n",
    "\n",
    "def selectionSort(arr):\n",
    "\n",
    "    for i in range(len(arr)):\n",
    "        min_i = i\n",
    "        for j in range(i+1,len(arr)):\n",
    "            if arr[j] < arr[min_i]:\n",
    "                min_i = j\n",
    "        arr[i], arr[min_i] = arr[min_i], arr[i]\n",
    "    print(arr)\n",
    "\n",
    "selectionSort(A)"
   ]
  },
  {
   "cell_type": "code",
   "execution_count": 16,
   "metadata": {},
   "outputs": [
    {
     "name": "stdout",
     "output_type": "stream",
     "text": [
      "[-3, 0, 1, 2, 4, 9, 18]\n"
     ]
    }
   ],
   "source": [
    "# Stable selection sort [O(n^2)]\n",
    "\n",
    "def stableSelectionSort(arr):\n",
    "    \n",
    "    for i in range(len(arr)):\n",
    "        min_i = i\n",
    "        for j in reversed(range(i+1,len(arr))):\n",
    "            if arr[j] < arr[min_i]:\n",
    "                min_i = j\n",
    "        arr[min_i], arr[i] = arr[i], arr[min_i]\n",
    "    print(arr)\n",
    "\n",
    "stableSelectionSort(A)"
   ]
  },
  {
   "cell_type": "code",
   "execution_count": 17,
   "metadata": {},
   "outputs": [
    {
     "name": "stdout",
     "output_type": "stream",
     "text": [
      "[-3, 0, 1, 2, 4, 9, 18]\n"
     ]
    }
   ],
   "source": [
    "# Merge sort [O(nlog(n)]\n",
    "\n",
    "def merge(arr, lb, mid, ub):\n",
    "    \n",
    "    n1 = mid - lb + 1\n",
    "    n2 = ub - mid\n",
    "\n",
    "    # create temp arrays\n",
    "    L = [0] * n1\n",
    "    R = [0] * n2\n",
    "\n",
    "\t# Copy data to temp arrays L[] and R[]\n",
    "    for i in range(n1):\n",
    "        L[i] = arr[lb + i]\n",
    "\n",
    "    for j in range(n2):\n",
    "        R[j] = arr[mid + 1 + j]\n",
    "\n",
    "    # Merge the temp arrays back into arr[l..r]\n",
    "    i = 0   # Initial index of first subarray\n",
    "    j = 0   # Initial index of second subarray\n",
    "    k = lb  # Initial index of merged subarray\n",
    "\n",
    "    while i < n1 and j < n2:\n",
    "        if L[i] <= R[j]:\n",
    "            arr[k] = L[i]\n",
    "            i += 1\n",
    "        else:\n",
    "            arr[k] = R[j]\n",
    "            j += 1\n",
    "        k += 1\n",
    "\n",
    "    # Copy the remaining elements of L[], if there are any\n",
    "    while i < n1:\n",
    "        arr[k] = L[i]\n",
    "        i += 1\n",
    "        k += 1\n",
    "\n",
    "    # Copy the remaining elements of R[], if there are any\n",
    "    while j < n2:\n",
    "        arr[k] = R[j]\n",
    "        j += 1\n",
    "        k += 1\n",
    "\n",
    "\n",
    "def mergeSort(arr, lb, ub):\n",
    "    if lb < ub:\n",
    "        mid = (lb+ub)//2\n",
    "        mergeSort(arr, lb, mid)\n",
    "        mergeSort(arr, mid+1, ub)\n",
    "        merge(arr, lb, mid, ub)\n",
    "\n",
    "mergeSort(A, 0, len(A)-1)\n",
    "print(A)"
   ]
  },
  {
   "cell_type": "code",
   "execution_count": null,
   "metadata": {},
   "outputs": [],
   "source": [
    "# Counting sort"
   ]
  }
 ],
 "metadata": {
  "kernelspec": {
   "display_name": "base",
   "language": "python",
   "name": "python3"
  },
  "language_info": {
   "codemirror_mode": {
    "name": "ipython",
    "version": 3
   },
   "file_extension": ".py",
   "mimetype": "text/x-python",
   "name": "python",
   "nbconvert_exporter": "python",
   "pygments_lexer": "ipython3",
   "version": "3.7.11"
  },
  "orig_nbformat": 4
 },
 "nbformat": 4,
 "nbformat_minor": 2
}
