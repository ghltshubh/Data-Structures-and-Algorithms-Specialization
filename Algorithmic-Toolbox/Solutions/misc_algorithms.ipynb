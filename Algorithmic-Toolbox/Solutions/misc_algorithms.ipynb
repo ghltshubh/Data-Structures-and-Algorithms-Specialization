{
 "cells": [
  {
   "cell_type": "code",
   "execution_count": 12,
   "metadata": {},
   "outputs": [
    {
     "name": "stdout",
     "output_type": "stream",
     "text": [
      "[4, 2, 9, 1, 0, 18, -3]\n"
     ]
    }
   ],
   "source": [
    "# Selection sort\n",
    "\n",
    "def selectionSort(arr):\n",
    "\n",
    "\n",
    "    for i in range(len(arr)):\n",
    "        min_i = i\n",
    "        for j in range(1,len(arr)):\n",
    "            if arr[j] < arr[min_i]:\n",
    "                min_i = j\n",
    "        arr[min_i], arr[i] = arr[i], arr[min_i]\n",
    "\n",
    "    print(arr)\n",
    "\n",
    "selectionSort([4, 2, 9, 1, 0, -3, 18])"
   ]
  },
  {
   "cell_type": "code",
   "execution_count": null,
   "metadata": {},
   "outputs": [],
   "source": []
  }
 ],
 "metadata": {
  "kernelspec": {
   "display_name": "base",
   "language": "python",
   "name": "python3"
  },
  "language_info": {
   "codemirror_mode": {
    "name": "ipython",
    "version": 3
   },
   "file_extension": ".py",
   "mimetype": "text/x-python",
   "name": "python",
   "nbconvert_exporter": "python",
   "pygments_lexer": "ipython3",
   "version": "3.7.11"
  },
  "orig_nbformat": 4
 },
 "nbformat": 4,
 "nbformat_minor": 2
}
