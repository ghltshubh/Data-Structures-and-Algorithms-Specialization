{
 "cells": [
  {
   "cell_type": "code",
   "execution_count": 21,
   "metadata": {},
   "outputs": [
    {
     "name": "stdout",
     "output_type": "stream",
     "text": [
      "[-3, 2, 9, 1, 0, 4, 18]\n",
      "[-3, 0, 9, 1, 2, 4, 18]\n",
      "[-3, 0, 1, 9, 2, 4, 18]\n",
      "[-3, 0, 1, 2, 9, 4, 18]\n",
      "[-3, 0, 1, 2, 4, 9, 18]\n",
      "[-3, 0, 1, 2, 4, 9, 18]\n",
      "[-3, 0, 1, 2, 4, 9, 18]\n"
     ]
    }
   ],
   "source": [
    "# Selection sort [O(n^2)]\n",
    "\n",
    "def selectionSort(arr):\n",
    "\n",
    "    for i in range(len(arr)):\n",
    "        min_i = i\n",
    "        for j in range(i+1,len(arr)):\n",
    "            if arr[j] < arr[min_i]:\n",
    "                min_i = j\n",
    "        arr[i], arr[min_i] = arr[min_i], arr[i]\n",
    "        print(arr)\n",
    "    # print(arr)\n",
    "\n",
    "selectionSort([4, 2, 9, 1, 0, -3, 18])"
   ]
  },
  {
   "cell_type": "code",
   "execution_count": 24,
   "metadata": {},
   "outputs": [
    {
     "name": "stdout",
     "output_type": "stream",
     "text": [
      "[1, 2, 3, 4, 4, 5]\n"
     ]
    }
   ],
   "source": [
    "# Stable selection sort [O(n^2)]\n",
    "\n",
    "def stableSelectionSort(arr):\n",
    "    \n",
    "    for i in range(len(arr)):\n",
    "        min_i = i\n",
    "        for j in reversed(range(i+1,len(arr))):\n",
    "            if arr[j] < arr[min_i]:\n",
    "                min_i = j\n",
    "        arr[min_i], arr[i] = arr[i], arr[min_i]\n",
    "    print(arr)\n",
    "\n",
    "stableSelectionSort([4, 5, 3, 2, 4, 1])"
   ]
  },
  {
   "cell_type": "code",
   "execution_count": 25,
   "metadata": {},
   "outputs": [
    {
     "ename": "SyntaxError",
     "evalue": "unexpected EOF while parsing (3369640562.py, line 3)",
     "output_type": "error",
     "traceback": [
      "\u001b[0;36m  File \u001b[0;32m\"/var/folders/5p/bhsb4zjs41lblf2nd_bft5cm0000gp/T/ipykernel_60154/3369640562.py\"\u001b[0;36m, line \u001b[0;32m3\u001b[0m\n\u001b[0;31m    def mergeSort(arr):\u001b[0m\n\u001b[0m                       ^\u001b[0m\n\u001b[0;31mSyntaxError\u001b[0m\u001b[0;31m:\u001b[0m unexpected EOF while parsing\n"
     ]
    }
   ],
   "source": [
    "# Merge sort\n",
    "\n",
    "def mergeSort(arr, lb, ub):\n",
    "\n",
    "    if lb < ub:\n",
    "        mid = (lb+ub)/2\n",
    "        mergeSort(arr, lb, mid)\n",
    "        mergeSort(arr, mid+1, ub)\n",
    "        merge(arr, lb, mid, ub)\n",
    "\n",
    "def merge(arr, lb, mid, ub):\n",
    "    \n",
    "\n",
    "\n",
    "    "
   ]
  },
  {
   "cell_type": "code",
   "execution_count": null,
   "metadata": {},
   "outputs": [],
   "source": []
  }
 ],
 "metadata": {
  "kernelspec": {
   "display_name": "base",
   "language": "python",
   "name": "python3"
  },
  "language_info": {
   "codemirror_mode": {
    "name": "ipython",
    "version": 3
   },
   "file_extension": ".py",
   "mimetype": "text/x-python",
   "name": "python",
   "nbconvert_exporter": "python",
   "pygments_lexer": "ipython3",
   "version": "3.7.11"
  },
  "orig_nbformat": 4
 },
 "nbformat": 4,
 "nbformat_minor": 2
}
